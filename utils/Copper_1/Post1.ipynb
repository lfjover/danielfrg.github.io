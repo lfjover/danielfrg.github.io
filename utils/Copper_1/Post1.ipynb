{
 "metadata": {
  "name": "Blog 1"
 },
 "nbformat": 3,
 "nbformat_minor": 0,
 "worksheets": [
  {
   "cells": [
    {
     "cell_type": "markdown",
     "metadata": {},
     "source": [
      "As part of my Master in IT &amp; Management this semester I am taking a class called \"Advanced Business Intelligence\" which is the same as machine learning or data analysis to the Business people; in general they teach how to use SAS to do data mining.\n",
      "\n",
      "SAS and mainly Enterprise Miner is a good software - with some problems:\n",
      "\n",
      "* Costs a **lot** of money\n",
      "* Is slow as hell, seriously\n",
      "* Good for business people, not so much for engineers\n",
      "* Costs a **lot** of money\n",
      "\n",
      "I was able to get it for $100 dollars because the university has an arrangement with SAS but without that is impossible to buy for personal use. For that reason I start learning R (from [coursera](http://coursera.org/ \"Coursera\")) and Python Data Analysis packages (pandas and scikit-learn), while I was taking \"(basic) Business Intelligence\".\n",
      "\n",
      "I learned that is possible to replace SAS with R or Python but some easy tasks can take a long time. I want to make a contribution by making some tasks easier and keep learning python. For that reason I am going to try to do **everything** we do on my BI class with Python and try to make a package for making some tasks more easy.\n",
      "\n",
      "The first week was review of how to import Data into SAS Enterprise Miner and explore a little bit the data."
     ]
    },
    {
     "cell_type": "heading",
     "level": 2,
     "metadata": {},
     "source": [
      "Copper"
     ]
    },
    {
     "cell_type": "markdown",
     "metadata": {},
     "source": [
      "After thinking a **lot** how to call the package I decide to call it copper (inspired by the dog of [The Fox and the Hound](http://en.wikipedia.org/wiki/The_Fox_and_the_Hound) aka the saddest movie ever)."
     ]
    },
    {
     "cell_type": "heading",
     "level": 3,
     "metadata": {},
     "source": [
      "Importing"
     ]
    },
    {
     "cell_type": "markdown",
     "metadata": {},
     "source": [
      "Note: I am going to use the same data that as on my class, a dataset from donations, available here: [donors.csv](https://raw.github.com/danielfrg/copper/master/examples/donors/data/donors.csv)\n",
      "\n",
      "One thing that SAS does really good  and pandas does not have is metadata:\n",
      "\n",
      "* Undestands the type of each column: for example, columns with money symbols are converted to numbers that later can be used for doing machine learning. \n",
      "* But also can change the type (or level how SAS call it) to be categorical or number variables, also can define roles: for example Rejected columns are not used for Machine Learning and that way is very easy to try different combinations.\n",
      "\n",
      "So I create a class called DataSet which is a wrapper around a few pandas DataFrames to introduce metadata.\n",
      "\n",
      "To load data have to `import copper` and then configure the directory path for the project. Inside the project directory needs to be another folder called 'data' with the data (`csv` files for example)"
     ]
    },
    {
     "cell_type": "code",
     "collapsed": false,
     "input": [
      "import copper\n",
      "copper.config.path = ''"
     ],
     "language": "python",
     "metadata": {},
     "outputs": [],
     "prompt_number": 1
    },
    {
     "cell_type": "markdown",
     "metadata": {},
     "source": [
      "Then create a new Dataset and load the `donors.csv` file"
     ]
    },
    {
     "cell_type": "code",
     "collapsed": false,
     "input": [
      "ds = copper.DataSet()"
     ],
     "language": "python",
     "metadata": {},
     "outputs": [],
     "prompt_number": 2
    },
    {
     "cell_type": "code",
     "collapsed": false,
     "input": [
      "ds.load('donors.csv')"
     ],
     "language": "python",
     "metadata": {},
     "outputs": [],
     "prompt_number": 3
    },
    {
     "cell_type": "code",
     "collapsed": false,
     "input": [
      "ds.__unicode__()"
     ],
     "language": "python",
     "metadata": {},
     "outputs": [
      {
       "html": [
        "<div style=\"max-height:1000px;max-width:1500px;overflow:auto;\">\n",
        "<table border=\"1\" class=\"dataframe\">\n",
        "  <thead>\n",
        "    <tr style=\"text-align: right;\">\n",
        "      <th></th>\n",
        "      <th>Role</th>\n",
        "      <th>Type</th>\n",
        "    </tr>\n",
        "  </thead>\n",
        "  <tbody>\n",
        "    <tr>\n",
        "      <td><strong>TARGET_B</strong></td>\n",
        "      <td>   Target</td>\n",
        "      <td>   Number</td>\n",
        "    </tr>\n",
        "    <tr>\n",
        "      <td><strong>ID</strong></td>\n",
        "      <td>       ID</td>\n",
        "      <td>   Number</td>\n",
        "    </tr>\n",
        "    <tr>\n",
        "      <td><strong>TARGET_D</strong></td>\n",
        "      <td> Rejected</td>\n",
        "      <td>    Money</td>\n",
        "    </tr>\n",
        "    <tr>\n",
        "      <td><strong>GiftCnt36</strong></td>\n",
        "      <td>    Input</td>\n",
        "      <td> Category</td>\n",
        "    </tr>\n",
        "    <tr>\n",
        "      <td><strong>GiftCntAll</strong></td>\n",
        "      <td>    Input</td>\n",
        "      <td>   Number</td>\n",
        "    </tr>\n",
        "    <tr>\n",
        "      <td><strong>GiftCntCard36</strong></td>\n",
        "      <td>    Input</td>\n",
        "      <td> Category</td>\n",
        "    </tr>\n",
        "    <tr>\n",
        "      <td><strong>GiftCntCardAll</strong></td>\n",
        "      <td>    Input</td>\n",
        "      <td>   Number</td>\n",
        "    </tr>\n",
        "    <tr>\n",
        "      <td><strong>GiftAvgLast</strong></td>\n",
        "      <td>    Input</td>\n",
        "      <td>    Money</td>\n",
        "    </tr>\n",
        "    <tr>\n",
        "      <td><strong>GiftAvg36</strong></td>\n",
        "      <td>    Input</td>\n",
        "      <td>    Money</td>\n",
        "    </tr>\n",
        "    <tr>\n",
        "      <td><strong>GiftAvgAll</strong></td>\n",
        "      <td>    Input</td>\n",
        "      <td>    Money</td>\n",
        "    </tr>\n",
        "    <tr>\n",
        "      <td><strong>GiftAvgCard36</strong></td>\n",
        "      <td>    Input</td>\n",
        "      <td>    Money</td>\n",
        "    </tr>\n",
        "    <tr>\n",
        "      <td><strong>GiftTimeLast</strong></td>\n",
        "      <td>    Input</td>\n",
        "      <td>   Number</td>\n",
        "    </tr>\n",
        "    <tr>\n",
        "      <td><strong>GiftTimeFirst</strong></td>\n",
        "      <td>    Input</td>\n",
        "      <td>   Number</td>\n",
        "    </tr>\n",
        "    <tr>\n",
        "      <td><strong>PromCnt12</strong></td>\n",
        "      <td>    Input</td>\n",
        "      <td>   Number</td>\n",
        "    </tr>\n",
        "    <tr>\n",
        "      <td><strong>PromCnt36</strong></td>\n",
        "      <td>    Input</td>\n",
        "      <td>   Number</td>\n",
        "    </tr>\n",
        "    <tr>\n",
        "      <td><strong>PromCntAll</strong></td>\n",
        "      <td>    Input</td>\n",
        "      <td>   Number</td>\n",
        "    </tr>\n",
        "    <tr>\n",
        "      <td><strong>PromCntCard12</strong></td>\n",
        "      <td>    Input</td>\n",
        "      <td> Category</td>\n",
        "    </tr>\n",
        "    <tr>\n",
        "      <td><strong>PromCntCard36</strong></td>\n",
        "      <td>    Input</td>\n",
        "      <td>   Number</td>\n",
        "    </tr>\n",
        "    <tr>\n",
        "      <td><strong>PromCntCardAll</strong></td>\n",
        "      <td>    Input</td>\n",
        "      <td>   Number</td>\n",
        "    </tr>\n",
        "    <tr>\n",
        "      <td><strong>StatusCat96NK</strong></td>\n",
        "      <td>    Input</td>\n",
        "      <td> Category</td>\n",
        "    </tr>\n",
        "    <tr>\n",
        "      <td><strong>StatusCatStarAll</strong></td>\n",
        "      <td>    Input</td>\n",
        "      <td> Category</td>\n",
        "    </tr>\n",
        "    <tr>\n",
        "      <td><strong>DemCluster</strong></td>\n",
        "      <td>    Input</td>\n",
        "      <td>   Number</td>\n",
        "    </tr>\n",
        "    <tr>\n",
        "      <td><strong>DemAge</strong></td>\n",
        "      <td>    Input</td>\n",
        "      <td>   Number</td>\n",
        "    </tr>\n",
        "    <tr>\n",
        "      <td><strong>DemGender</strong></td>\n",
        "      <td>    Input</td>\n",
        "      <td> Category</td>\n",
        "    </tr>\n",
        "    <tr>\n",
        "      <td><strong>DemHomeOwner</strong></td>\n",
        "      <td>    Input</td>\n",
        "      <td> Category</td>\n",
        "    </tr>\n",
        "    <tr>\n",
        "      <td><strong>DemMedHomeValue</strong></td>\n",
        "      <td>    Input</td>\n",
        "      <td>    Money</td>\n",
        "    </tr>\n",
        "    <tr>\n",
        "      <td><strong>DemPctVeterans</strong></td>\n",
        "      <td>    Input</td>\n",
        "      <td>   Number</td>\n",
        "    </tr>\n",
        "    <tr>\n",
        "      <td><strong>DemMedIncome</strong></td>\n",
        "      <td>    Input</td>\n",
        "      <td>    Money</td>\n",
        "    </tr>\n",
        "  </tbody>\n",
        "</table>\n",
        "</div>"
       ],
       "output_type": "pyout",
       "prompt_number": 4,
       "text": [
        "                      Role      Type\n",
        "TARGET_B            Target    Number\n",
        "ID                      ID    Number\n",
        "TARGET_D          Rejected     Money\n",
        "GiftCnt36            Input  Category\n",
        "GiftCntAll           Input    Number\n",
        "GiftCntCard36        Input  Category\n",
        "GiftCntCardAll       Input    Number\n",
        "GiftAvgLast          Input     Money\n",
        "GiftAvg36            Input     Money\n",
        "GiftAvgAll           Input     Money\n",
        "GiftAvgCard36        Input     Money\n",
        "GiftTimeLast         Input    Number\n",
        "GiftTimeFirst        Input    Number\n",
        "PromCnt12            Input    Number\n",
        "PromCnt36            Input    Number\n",
        "PromCntAll           Input    Number\n",
        "PromCntCard12        Input  Category\n",
        "PromCntCard36        Input    Number\n",
        "PromCntCardAll       Input    Number\n",
        "StatusCat96NK        Input  Category\n",
        "StatusCatStarAll     Input  Category\n",
        "DemCluster           Input    Number\n",
        "DemAge               Input    Number\n",
        "DemGender            Input  Category\n",
        "DemHomeOwner         Input  Category\n",
        "DemMedHomeValue      Input     Money\n",
        "DemPctVeterans       Input    Number\n",
        "DemMedIncome         Input     Money"
       ]
      }
     ],
     "prompt_number": 4
    },
    {
     "cell_type": "heading",
     "level": 3,
     "metadata": {},
     "source": [
      "Metadata"
     ]
    },
    {
     "cell_type": "markdown",
     "metadata": {},
     "source": [
      "By default copper tries to find the best match for each column, similar at what SAS does. \n",
      "\n",
      "* Depending on the name of the column decides what the target and ID columns are; the rest are inputs. \n",
      "* Also tries to figure out the type of each column depending on the dtype (from pandas/numpy) and the content: for example if the dtype is object but most of the values starts with a *$* symbols defines the column as a money column.\n",
      "\n",
      "Of course is possible to change the defaults role and type of each column:"
     ]
    },
    {
     "cell_type": "code",
     "collapsed": false,
     "input": [
      "ds.role['ID'] = ds.INPUT\n",
      "ds.type['TARGET_D'] = ds.CATEGORY"
     ],
     "language": "python",
     "metadata": {},
     "outputs": [],
     "prompt_number": 5
    },
    {
     "cell_type": "code",
     "collapsed": false,
     "input": [
      "ds.__unicode__().head(3)"
     ],
     "language": "python",
     "metadata": {},
     "outputs": [
      {
       "html": [
        "<div style=\"max-height:1000px;max-width:1500px;overflow:auto;\">\n",
        "<table border=\"1\" class=\"dataframe\">\n",
        "  <thead>\n",
        "    <tr style=\"text-align: right;\">\n",
        "      <th></th>\n",
        "      <th>Role</th>\n",
        "      <th>Type</th>\n",
        "    </tr>\n",
        "  </thead>\n",
        "  <tbody>\n",
        "    <tr>\n",
        "      <td><strong>TARGET_B</strong></td>\n",
        "      <td>   Target</td>\n",
        "      <td>   Number</td>\n",
        "    </tr>\n",
        "    <tr>\n",
        "      <td><strong>ID</strong></td>\n",
        "      <td>    Input</td>\n",
        "      <td>   Number</td>\n",
        "    </tr>\n",
        "    <tr>\n",
        "      <td><strong>TARGET_D</strong></td>\n",
        "      <td> Rejected</td>\n",
        "      <td> Category</td>\n",
        "    </tr>\n",
        "  </tbody>\n",
        "</table>\n",
        "</div>"
       ],
       "output_type": "pyout",
       "prompt_number": 6,
       "text": [
        "              Role      Type\n",
        "TARGET_B    Target    Number\n",
        "ID           Input    Number\n",
        "TARGET_D  Rejected  Category"
       ]
      }
     ],
     "prompt_number": 6
    },
    {
     "cell_type": "markdown",
     "metadata": {},
     "source": [
      "Depending of the metadata the copper transforms the data. Mainly it transforms non-numbers into numbers, that is important because on scikit-learn is necessary to enter **only** numbers. But more on that on a later."
     ]
    },
    {
     "cell_type": "heading",
     "level": 3,
     "metadata": {},
     "source": [
      "Histograms"
     ]
    },
    {
     "cell_type": "markdown",
     "metadata": {},
     "source": [
      "Before going into Machine Learning is a good idea to explore the data, the usual way is with a histogram. Is easy to explore money columns:"
     ]
    },
    {
     "cell_type": "code",
     "collapsed": false,
     "input": [
      "ds.histogram('DemMedIncome')"
     ],
     "language": "python",
     "metadata": {},
     "outputs": [
      {
       "output_type": "pyout",
       "prompt_number": 7,
       "text": [
        "<matplotlib.axes.Axes at 0x57d2c90>"
       ]
      },
      {
       "output_type": "display_data",
       "png": "[encoded data removed]"
      }
     ],
     "prompt_number": 7
    },
    {
     "cell_type": "markdown",
     "metadata": {},
     "source": [
      "But is also possible to explore categorical variables."
     ]
    },
    {
     "cell_type": "code",
     "collapsed": false,
     "input": [
      "ds.histogram('DemGender')"
     ],
     "language": "python",
     "metadata": {},
     "outputs": [
      {
       "output_type": "pyout",
       "prompt_number": 8,
       "text": [
        "<matplotlib.axes.Axes at 0x57e2490>"
       ]
      },
      {
       "output_type": "display_data",
       "png": "[encoded data removed]"
      }
     ],
     "prompt_number": 8
    },
    {
     "cell_type": "heading",
     "level": 3,
     "metadata": {},
     "source": [
      "Inputs"
     ]
    },
    {
     "cell_type": "markdown",
     "metadata": {},
     "source": [
      "We can take a look at how the data is transformed."
     ]
    },
    {
     "cell_type": "code",
     "collapsed": false,
     "input": [
      "ds.inputs"
     ],
     "language": "python",
     "metadata": {},
     "outputs": [
      {
       "output_type": "pyout",
       "prompt_number": 9,
       "text": [
        "<class 'pandas.core.frame.DataFrame'>\n",
        "Int64Index: 9686 entries, 0 to 9685\n",
        "Data columns:\n",
        "ID                      9686  non-null values\n",
        "GiftCntAll              9686  non-null values\n",
        "GiftCntCardAll          9686  non-null values\n",
        "GiftAvgLast             9686  non-null values\n",
        "GiftAvg36               9686  non-null values\n",
        "GiftAvgAll              9686  non-null values\n",
        "GiftAvgCard36           7906  non-null values\n",
        "GiftTimeLast            9686  non-null values\n",
        "GiftTimeFirst           9686  non-null values\n",
        "PromCnt12               9686  non-null values\n",
        "PromCnt36               9686  non-null values\n",
        "PromCntAll              9686  non-null values\n",
        "PromCntCard36           9686  non-null values\n",
        "PromCntCardAll          9686  non-null values\n",
        "DemCluster              9686  non-null values\n",
        "DemAge                  7279  non-null values\n",
        "DemMedHomeValue         9686  non-null values\n",
        "DemPctVeterans          9686  non-null values\n",
        "DemMedIncome            9686  non-null values\n",
        "GiftCnt36 [0]           9686  non-null values\n",
        "GiftCnt36 [1]           9686  non-null values\n",
        "GiftCnt36 [2]           9686  non-null values\n",
        "GiftCnt36 [3]           9686  non-null values\n",
        "GiftCnt36 [4]           9686  non-null values\n",
        "GiftCnt36 [5]           9686  non-null values\n",
        "GiftCnt36 [6]           9686  non-null values\n",
        "GiftCnt36 [7]           9686  non-null values\n",
        "GiftCnt36 [8]           9686  non-null values\n",
        "GiftCnt36 [9]           9686  non-null values\n",
        "GiftCnt36 [10]          9686  non-null values\n",
        "GiftCnt36 [11]          9686  non-null values\n",
        "GiftCnt36 [12]          9686  non-null values\n",
        "GiftCnt36 [13]          9686  non-null values\n",
        "GiftCnt36 [15]          9686  non-null values\n",
        "GiftCnt36 [16]          9686  non-null values\n",
        "GiftCntCard36 [0]       9686  non-null values\n",
        "GiftCntCard36 [1]       9686  non-null values\n",
        "GiftCntCard36 [2]       9686  non-null values\n",
        "GiftCntCard36 [3]       9686  non-null values\n",
        "GiftCntCard36 [4]       9686  non-null values\n",
        "GiftCntCard36 [5]       9686  non-null values\n",
        "GiftCntCard36 [6]       9686  non-null values\n",
        "GiftCntCard36 [7]       9686  non-null values\n",
        "GiftCntCard36 [8]       9686  non-null values\n",
        "GiftCntCard36 [9]       9686  non-null values\n",
        "PromCntCard12 [0]       9686  non-null values\n",
        "PromCntCard12 [1]       9686  non-null values\n",
        "PromCntCard12 [2]       9686  non-null values\n",
        "PromCntCard12 [3]       9686  non-null values\n",
        "PromCntCard12 [4]       9686  non-null values\n",
        "PromCntCard12 [5]       9686  non-null values\n",
        "PromCntCard12 [6]       9686  non-null values\n",
        "PromCntCard12 [7]       9686  non-null values\n",
        "PromCntCard12 [8]       9686  non-null values\n",
        "PromCntCard12 [9]       9686  non-null values\n",
        "PromCntCard12 [10]      9686  non-null values\n",
        "PromCntCard12 [11]      9686  non-null values\n",
        "PromCntCard12 [12]      9686  non-null values\n",
        "PromCntCard12 [13]      9686  non-null values\n",
        "PromCntCard12 [14]      9686  non-null values\n",
        "PromCntCard12 [15]      9686  non-null values\n",
        "PromCntCard12 [17]      9686  non-null values\n",
        "StatusCat96NK [A]       9686  non-null values\n",
        "StatusCat96NK [E]       9686  non-null values\n",
        "StatusCat96NK [F]       9686  non-null values\n",
        "StatusCat96NK [L]       9686  non-null values\n",
        "StatusCat96NK [N]       9686  non-null values\n",
        "StatusCat96NK [S]       9686  non-null values\n",
        "StatusCatStarAll [0]    9686  non-null values\n",
        "StatusCatStarAll [1]    9686  non-null values\n",
        "DemGender [F]           9686  non-null values\n",
        "DemGender [M]           9686  non-null values\n",
        "DemGender [U]           9686  non-null values\n",
        "DemHomeOwner [H]        9686  non-null values\n",
        "DemHomeOwner [U]        9686  non-null values\n",
        "dtypes: float64(7), int64(68)"
       ]
      }
     ],
     "prompt_number": 9
    },
    {
     "cell_type": "markdown",
     "metadata": {},
     "source": [
      "The inputs is a pandas DataFrame. We can see that each categorical variable is divided intro more columns that are filled with one's and zero's for doing machine learning possible also money columns are converted to be numbers only.\n",
      "\n",
      "See that the dtypes are float and int so is possible to enter that on scikit-learn by calling `inputs.values` to get a numpy array."
     ]
    },
    {
     "cell_type": "heading",
     "level": 3,
     "metadata": {},
     "source": [
      "Conclusion"
     ]
    },
    {
     "cell_type": "markdown",
     "metadata": {},
     "source": [
      "Thats it for now, the next week I hope to get the integration with scikit-learn to make comparison of models as easy (and why not easier) than with SAS.\n",
      "\n",
      "The code is on github: [copper](https://github.com/danielfrg/copper \"Copper\")"
     ]
    }
   ],
   "metadata": {}
  }
 ]
}