{
 "metadata": {
  "name": "Post_2"
 },
 "nbformat": 3,
 "nbformat_minor": 0,
 "worksheets": [
  {
   "cells": [
    {
     "cell_type": "markdown",
     "metadata": {},
     "source": [
      "I wanted to see really how fast and good is the API for the package for that reason I decide to repeat the project #3 of my basic \"Business Intelligence\" class. That project took me at least 16 hours to complete, of course that includes the creation of the report but I remember to spend from 5 to 6 hours on SAS doing the data mining.\n",
      "\n",
      "The data is about the customers of a catalog, the objective is to predict which customers are more likely to respond to the catalog campaign and send a catalog to those customers. There is a dataset for [training](https://raw.github.com/danielfrg/copper/master/tests/data/catalog/training.csv) (2000 rows) and another one for [testing](https://raw.github.com/danielfrg/copper/master/tests/data/catalog/testing.csv) (2000 rows). Each file has this columns:\n",
      "\n",
      "1. NGIF: number of orders in the 24 months\n",
      "2. RAMN: Total order amounts in dollars in the last 24 months\n",
      "3. LASG: Amount of last order\n",
      "4. LASD: Date of last order (you may need to convert it to number of months elapsed to 01/01/2007)\n",
      "5. RFA1: Frequency of order\n",
      "6. RFA2: Order amount category (as defined by the firm) of the last order\n",
      "7. Order: Actual response (1: response, 0: no response)\n",
      "\n",
      "We start by importing the training data and taking a look at the first few items and the default metadata."
     ]
    },
    {
     "cell_type": "code",
     "collapsed": false,
     "input": [
      "import copper"
     ],
     "language": "python",
     "metadata": {},
     "outputs": [],
     "prompt_number": 1
    },
    {
     "cell_type": "code",
     "collapsed": false,
     "input": [
      "copper.config.path = '../../tests'"
     ],
     "language": "python",
     "metadata": {},
     "outputs": [],
     "prompt_number": 2
    },
    {
     "cell_type": "code",
     "collapsed": false,
     "input": [
      "ds_train = copper.read_csv('catalog/training.csv')"
     ],
     "language": "python",
     "metadata": {},
     "outputs": [],
     "prompt_number": 3
    },
    {
     "cell_type": "code",
     "collapsed": false,
     "input": [
      "ds_train.frame.head()"
     ],
     "language": "python",
     "metadata": {},
     "outputs": [
      {
       "html": [
        "<div style=\"max-height:1000px;max-width:1500px;overflow:auto;\">\n",
        "<table border=\"1\" class=\"dataframe\">\n",
        "  <thead>\n",
        "    <tr style=\"text-align: right;\">\n",
        "      <th></th>\n",
        "      <th>CustomerID</th>\n",
        "      <th>NGIF</th>\n",
        "      <th>RAMN</th>\n",
        "      <th>LASG</th>\n",
        "      <th>LASD</th>\n",
        "      <th>RFA1</th>\n",
        "      <th>RFA2</th>\n",
        "      <th>Order</th>\n",
        "    </tr>\n",
        "  </thead>\n",
        "  <tbody>\n",
        "    <tr>\n",
        "      <td><strong>0</strong></td>\n",
        "      <td> 1</td>\n",
        "      <td>  2</td>\n",
        "      <td>  30</td>\n",
        "      <td> 20</td>\n",
        "      <td> 200503</td>\n",
        "      <td> 1</td>\n",
        "      <td> 6</td>\n",
        "      <td> 1</td>\n",
        "    </tr>\n",
        "    <tr>\n",
        "      <td><strong>1</strong></td>\n",
        "      <td> 2</td>\n",
        "      <td> 25</td>\n",
        "      <td> 207</td>\n",
        "      <td> 20</td>\n",
        "      <td> 200503</td>\n",
        "      <td> 1</td>\n",
        "      <td> 6</td>\n",
        "      <td> 0</td>\n",
        "    </tr>\n",
        "    <tr>\n",
        "      <td><strong>2</strong></td>\n",
        "      <td> 3</td>\n",
        "      <td>  5</td>\n",
        "      <td>  52</td>\n",
        "      <td> 15</td>\n",
        "      <td> 200503</td>\n",
        "      <td> 1</td>\n",
        "      <td> 6</td>\n",
        "      <td> 0</td>\n",
        "    </tr>\n",
        "    <tr>\n",
        "      <td><strong>3</strong></td>\n",
        "      <td> 4</td>\n",
        "      <td> 11</td>\n",
        "      <td> 105</td>\n",
        "      <td> 15</td>\n",
        "      <td> 200503</td>\n",
        "      <td> 1</td>\n",
        "      <td> 6</td>\n",
        "      <td> 0</td>\n",
        "    </tr>\n",
        "    <tr>\n",
        "      <td><strong>4</strong></td>\n",
        "      <td> 5</td>\n",
        "      <td>  2</td>\n",
        "      <td>  32</td>\n",
        "      <td> 17</td>\n",
        "      <td> 200503</td>\n",
        "      <td> 1</td>\n",
        "      <td> 6</td>\n",
        "      <td> 0</td>\n",
        "    </tr>\n",
        "  </tbody>\n",
        "</table>\n",
        "</div>"
       ],
       "output_type": "pyout",
       "prompt_number": 4,
       "text": [
        "   CustomerID  NGIF  RAMN  LASG    LASD  RFA1  RFA2  Order\n",
        "0           1     2    30    20  200503     1     6      1\n",
        "1           2    25   207    20  200503     1     6      0\n",
        "2           3     5    52    15  200503     1     6      0\n",
        "3           4    11   105    15  200503     1     6      0\n",
        "4           5     2    32    17  200503     1     6      0"
       ]
      }
     ],
     "prompt_number": 4
    },
    {
     "cell_type": "code",
     "collapsed": false,
     "input": [
      "ds_train.metadata"
     ],
     "language": "python",
     "metadata": {},
     "outputs": [
      {
       "html": [
        "<div style=\"max-height:1000px;max-width:1500px;overflow:auto;\">\n",
        "<table border=\"1\" class=\"dataframe\">\n",
        "  <thead>\n",
        "    <tr style=\"text-align: right;\">\n",
        "      <th></th>\n",
        "      <th>Role</th>\n",
        "      <th>Type</th>\n",
        "    </tr>\n",
        "  </thead>\n",
        "  <tbody>\n",
        "    <tr>\n",
        "      <td><strong>CustomerID</strong></td>\n",
        "      <td> Input</td>\n",
        "      <td>   Number</td>\n",
        "    </tr>\n",
        "    <tr>\n",
        "      <td><strong>NGIF</strong></td>\n",
        "      <td> Input</td>\n",
        "      <td>   Number</td>\n",
        "    </tr>\n",
        "    <tr>\n",
        "      <td><strong>RAMN</strong></td>\n",
        "      <td> Input</td>\n",
        "      <td>   Number</td>\n",
        "    </tr>\n",
        "    <tr>\n",
        "      <td><strong>LASG</strong></td>\n",
        "      <td> Input</td>\n",
        "      <td>   Number</td>\n",
        "    </tr>\n",
        "    <tr>\n",
        "      <td><strong>LASD</strong></td>\n",
        "      <td> Input</td>\n",
        "      <td>   Number</td>\n",
        "    </tr>\n",
        "    <tr>\n",
        "      <td><strong>RFA1</strong></td>\n",
        "      <td> Input</td>\n",
        "      <td> Category</td>\n",
        "    </tr>\n",
        "    <tr>\n",
        "      <td><strong>RFA2</strong></td>\n",
        "      <td> Input</td>\n",
        "      <td> Category</td>\n",
        "    </tr>\n",
        "    <tr>\n",
        "      <td><strong>Order</strong></td>\n",
        "      <td> Input</td>\n",
        "      <td> Category</td>\n",
        "    </tr>\n",
        "  </tbody>\n",
        "</table>\n",
        "</div>"
       ],
       "output_type": "pyout",
       "prompt_number": 5,
       "text": [
        "             Role      Type\n",
        "CustomerID  Input    Number\n",
        "NGIF        Input    Number\n",
        "RAMN        Input    Number\n",
        "LASG        Input    Number\n",
        "LASD        Input    Number\n",
        "RFA1        Input  Category\n",
        "RFA2        Input  Category\n",
        "Order       Input  Category"
       ]
      }
     ],
     "prompt_number": 5
    },
    {
     "cell_type": "markdown",
     "metadata": {},
     "source": [
      "Some things that need to be fixed are:\n",
      "\n",
      "1. RFA1 type is a number not category\n",
      "2. RFA2 type is a number not category\n",
      "3. CustomerID role is ID not input\n",
      "4. Order role is target not input"
     ]
    },
    {
     "cell_type": "code",
     "collapsed": false,
     "input": [
      "ds_train.type['RFA1'] = ds_train.NUMBER\n",
      "ds_train.type['RFA2'] = ds_train.NUMBER\n",
      "ds_train.type['Order'] = ds_train.NUMBER\n",
      "ds_train.role['CustomerID'] = ds_train.ID\n",
      "ds_train.role['Order'] = ds_train.TARGET"
     ],
     "language": "python",
     "metadata": {},
     "outputs": [],
     "prompt_number": 6
    },
    {
     "cell_type": "markdown",
     "metadata": {},
     "source": [
      "There is another problem with the LASD column. It is a number but it actually represents a date with format YYYYMM. For that reason we need to transform it to number of months since last transaction using this formula: `12*(2007 - YEAR) - MONTH + 2`"
     ]
    },
    {
     "cell_type": "code",
     "collapsed": false,
     "input": [
      "ds_train.frame['LASD'].head()"
     ],
     "language": "python",
     "metadata": {},
     "outputs": [
      {
       "output_type": "pyout",
       "prompt_number": 7,
       "text": [
        "0    200503\n",
        "1    200503\n",
        "2    200503\n",
        "3    200503\n",
        "4    200503\n",
        "Name: LASD"
       ]
      }
     ],
     "prompt_number": 7
    },
    {
     "cell_type": "code",
     "collapsed": false,
     "input": [
      "fnc = lambda x: 12*(2007 - int(str(x)[0:4])) - int(str(x)[4:6]) + 2\n",
      "ds_train.transform('LASD', fnc)"
     ],
     "language": "python",
     "metadata": {},
     "outputs": [],
     "prompt_number": 8
    },
    {
     "cell_type": "code",
     "collapsed": false,
     "input": [
      "ds_train.frame['LASD'].head()"
     ],
     "language": "python",
     "metadata": {},
     "outputs": [
      {
       "output_type": "pyout",
       "prompt_number": 9,
       "text": [
        "0    23\n",
        "1    23\n",
        "2    23\n",
        "3    23\n",
        "4    23\n",
        "Name: LASD"
       ]
      }
     ],
     "prompt_number": 9
    },
    {
     "cell_type": "markdown",
     "metadata": {},
     "source": [
      "Perfect, we have to do the same for the testing dataset:"
     ]
    },
    {
     "cell_type": "code",
     "collapsed": false,
     "input": [
      "ds_test = copper.read_csv('catalog/testing.csv')\n",
      "ds_test.type['RFA1'] = ds_test.NUMBER\n",
      "ds_test.type['RFA2'] = ds_test.NUMBER\n",
      "ds_test.type['Order'] = ds_test.NUMBER\n",
      "ds_test.role['CustomerID'] = ds_test.ID\n",
      "ds_test.role['Order'] = ds_test.TARGET\n",
      "fnc = lambda x: 12*(2007 - int(str(x)[0:4])) - int(str(x)[4:6]) + 2\n",
      "ds_test.transform('LASD', fnc)"
     ],
     "language": "python",
     "metadata": {},
     "outputs": [],
     "prompt_number": 10
    },
    {
     "cell_type": "heading",
     "level": 2,
     "metadata": {},
     "source": [
      "Simple exploration"
     ]
    },
    {
     "cell_type": "markdown",
     "metadata": {},
     "source": [
      "A very simple exploration we can do is to plot the histogram of the new LASD column"
     ]
    },
    {
     "cell_type": "code",
     "collapsed": false,
     "input": [
      "ds_train.histogram('LASD')"
     ],
     "language": "python",
     "metadata": {},
     "outputs": [
      {
       "output_type": "pyout",
       "prompt_number": 11,
       "text": [
        "<matplotlib.axes.Axes at 0x4f00d50>"
       ]
      },
      {
       "output_type": "display_data",
       "png": "[encoded data removed]"
      }
     ],
     "prompt_number": 11
    },
    {
     "cell_type": "markdown",
     "metadata": {},
     "source": [
      "We can see that the data is based on people who purchased item a lot time ago, more that 10 months ago. That can be good or bad, but is what we have so lets use it."
     ]
    },
    {
     "cell_type": "heading",
     "level": 2,
     "metadata": {},
     "source": [
      "Machine Learning!"
     ]
    },
    {
     "cell_type": "markdown",
     "metadata": {},
     "source": [
      "OK, we finally can do some machine learning.\n",
      "In the previous post I show how the data is transformed to be inputs for scikit-learn on this example that is not necesary because all the data are numbers, but I will show how to do that on a later post.\n",
      "\n",
      "Anyways, to do some ML we need to:\n",
      "\n",
      "1. create a MachineLearning instance\n",
      "2. set the train data for the models\n",
      "3. set the testing data for the models"
     ]
    },
    {
     "cell_type": "code",
     "collapsed": false,
     "input": [
      "ml = copper.MachineLearning()\n",
      "ml.train = ds_train\n",
      "ml.test = ds_test"
     ],
     "language": "python",
     "metadata": {},
     "outputs": [],
     "prompt_number": 12
    },
    {
     "cell_type": "markdown",
     "metadata": {},
     "source": [
      "Create a few models to fit and compare: SVM, Decision Tree, GaussianNB and GradientBoosting."
     ]
    },
    {
     "cell_type": "code",
     "collapsed": false,
     "input": [
      "from sklearn import svm\n",
      "svm_clf = svm.SVC(probability=True)"
     ],
     "language": "python",
     "metadata": {},
     "outputs": [],
     "prompt_number": 13
    },
    {
     "cell_type": "code",
     "collapsed": false,
     "input": [
      "from sklearn import tree\n",
      "tree_clf = tree.DecisionTreeClassifier(max_depth=6)"
     ],
     "language": "python",
     "metadata": {},
     "outputs": [],
     "prompt_number": 14
    },
    {
     "cell_type": "code",
     "collapsed": false,
     "input": [
      "from sklearn.naive_bayes import GaussianNB\n",
      "gnb_clf = GaussianNB()"
     ],
     "language": "python",
     "metadata": {},
     "outputs": [],
     "prompt_number": 15
    },
    {
     "cell_type": "code",
     "collapsed": false,
     "input": [
      "from sklearn.ensemble import GradientBoostingClassifier\n",
      "gr_bst_clf = GradientBoostingClassifier()"
     ],
     "language": "python",
     "metadata": {},
     "outputs": [],
     "prompt_number": 16
    },
    {
     "cell_type": "markdown",
     "metadata": {},
     "source": [
      "Add the models to the ML instance and fit all the models"
     ]
    },
    {
     "cell_type": "code",
     "collapsed": false,
     "input": [
      "ml.add_model(svm_clf, 'SVM')\n",
      "ml.add_model(tree_clf, 'Decision Tree')\n",
      "ml.add_model(gnb_clf, 'GaussianNB')\n",
      "ml.add_model(gr_bst_clf, 'Grad Boosting')"
     ],
     "language": "python",
     "metadata": {},
     "outputs": [],
     "prompt_number": 17
    },
    {
     "cell_type": "code",
     "collapsed": false,
     "input": [
      "ml.fit()"
     ],
     "language": "python",
     "metadata": {},
     "outputs": [],
     "prompt_number": 18
    },
    {
     "cell_type": "heading",
     "level": 3,
     "metadata": {},
     "source": [
      "Comparing models"
     ]
    },
    {
     "cell_type": "markdown",
     "metadata": {},
     "source": [
      "We can see the accuracy of the models and plot the ROC curve."
     ]
    },
    {
     "cell_type": "code",
     "collapsed": false,
     "input": [
      "ml.accuracy()"
     ],
     "language": "python",
     "metadata": {},
     "outputs": [
      {
       "output_type": "pyout",
       "prompt_number": 19,
       "text": [
        "Grad Boosting    0.7200\n",
        "Decision Tree    0.7135\n",
        "SVM              0.6995\n",
        "GaussianNB       0.6790\n",
        "Name: Accuracy"
       ]
      }
     ],
     "prompt_number": 19
    },
    {
     "cell_type": "code",
     "collapsed": false,
     "input": [
      "ml.roc()"
     ],
     "language": "python",
     "metadata": {},
     "outputs": [
      {
       "output_type": "display_data",
       "png": "[encoded data removed]"
      }
     ],
     "prompt_number": 20
    },
    {
     "cell_type": "markdown",
     "metadata": {},
     "source": [
      "We can see that most of the models are very similar. That is expected because I did not set **any** parameters on any model. Obviously need to spend some time playing with different models, but I am not going to do that right now."
     ]
    },
    {
     "cell_type": "heading",
     "level": 3,
     "metadata": {},
     "source": [
      "Confusion matrix"
     ]
    },
    {
     "cell_type": "markdown",
     "metadata": {},
     "source": [
      "Since I start learning data mining I have loved the confusion matrix and the possibilities it offers. First, is very simple to understand, and tells more information than simple accuracy that can lead to not correct interpretations. Second and most important combined with costs can tell what companies love to hear, how much money are we saving/losing.\n",
      "\n",
      "We can see the all confusion matrixes with a simple command."
     ]
    },
    {
     "cell_type": "code",
     "collapsed": false,
     "input": [
      "ml.cm()"
     ],
     "language": "python",
     "metadata": {},
     "outputs": [
      {
       "output_type": "pyout",
       "prompt_number": 21,
       "text": [
        "{'Decision Tree': array([[1365,   67],\n",
        "       [ 506,   62]]),\n",
        " 'GaussianNB': array([[1196,  236],\n",
        "       [ 406,  162]]),\n",
        " 'Grad Boosting': array([[1387,   45],\n",
        "       [ 515,   53]]),\n",
        " 'SVM': array([[1362,   70],\n",
        "       [ 531,   37]])}"
       ]
      }
     ],
     "prompt_number": 21
    },
    {
     "cell_type": "markdown",
     "metadata": {},
     "source": [
      "That does not tell use very clear information but we can look at each single value like this:"
     ]
    },
    {
     "cell_type": "code",
     "collapsed": false,
     "input": [
      "ml.cm_table(0)"
     ],
     "language": "python",
     "metadata": {},
     "outputs": [
      {
       "html": [
        "<div style=\"max-height:1000px;max-width:1500px;overflow:auto;\">\n",
        "<table border=\"1\" class=\"dataframe\">\n",
        "  <thead>\n",
        "    <tr style=\"text-align: right;\">\n",
        "      <th></th>\n",
        "      <th>Predicted 0's</th>\n",
        "      <th>Correct 0's</th>\n",
        "      <th>Rate</th>\n",
        "    </tr>\n",
        "  </thead>\n",
        "  <tbody>\n",
        "    <tr>\n",
        "      <td><strong>Grad Boosting</strong></td>\n",
        "      <td> 1902</td>\n",
        "      <td> 1387</td>\n",
        "      <td> 0.7292324</td>\n",
        "    </tr>\n",
        "    <tr>\n",
        "      <td><strong>SVM</strong></td>\n",
        "      <td> 1893</td>\n",
        "      <td> 1362</td>\n",
        "      <td> 0.7194929</td>\n",
        "    </tr>\n",
        "    <tr>\n",
        "      <td><strong>GaussianNB</strong></td>\n",
        "      <td> 1602</td>\n",
        "      <td> 1196</td>\n",
        "      <td> 0.7465668</td>\n",
        "    </tr>\n",
        "    <tr>\n",
        "      <td><strong>Decision Tree</strong></td>\n",
        "      <td> 1871</td>\n",
        "      <td> 1365</td>\n",
        "      <td> 0.7295564</td>\n",
        "    </tr>\n",
        "  </tbody>\n",
        "</table>\n",
        "</div>"
       ],
       "output_type": "pyout",
       "prompt_number": 22,
       "text": [
        "              Predicted 0's Correct 0's       Rate\n",
        "Grad Boosting          1902        1387  0.7292324\n",
        "SVM                    1893        1362  0.7194929\n",
        "GaussianNB             1602        1196  0.7465668\n",
        "Decision Tree          1871        1365  0.7295564"
       ]
      }
     ],
     "prompt_number": 22
    },
    {
     "cell_type": "code",
     "collapsed": false,
     "input": [
      "ml.cm_table(1)"
     ],
     "language": "python",
     "metadata": {},
     "outputs": [
      {
       "html": [
        "<div style=\"max-height:1000px;max-width:1500px;overflow:auto;\">\n",
        "<table border=\"1\" class=\"dataframe\">\n",
        "  <thead>\n",
        "    <tr style=\"text-align: right;\">\n",
        "      <th></th>\n",
        "      <th>Predicted 1's</th>\n",
        "      <th>Correct 1's</th>\n",
        "      <th>Rate</th>\n",
        "    </tr>\n",
        "  </thead>\n",
        "  <tbody>\n",
        "    <tr>\n",
        "      <td><strong>Grad Boosting</strong></td>\n",
        "      <td>  98</td>\n",
        "      <td>  53</td>\n",
        "      <td> 0.5408163</td>\n",
        "    </tr>\n",
        "    <tr>\n",
        "      <td><strong>SVM</strong></td>\n",
        "      <td> 107</td>\n",
        "      <td>  37</td>\n",
        "      <td> 0.3457944</td>\n",
        "    </tr>\n",
        "    <tr>\n",
        "      <td><strong>GaussianNB</strong></td>\n",
        "      <td> 398</td>\n",
        "      <td> 162</td>\n",
        "      <td> 0.4070352</td>\n",
        "    </tr>\n",
        "    <tr>\n",
        "      <td><strong>Decision Tree</strong></td>\n",
        "      <td> 129</td>\n",
        "      <td>  62</td>\n",
        "      <td> 0.4806202</td>\n",
        "    </tr>\n",
        "  </tbody>\n",
        "</table>\n",
        "</div>"
       ],
       "output_type": "pyout",
       "prompt_number": 23,
       "text": [
        "              Predicted 1's Correct 1's       Rate\n",
        "Grad Boosting            98          53  0.5408163\n",
        "SVM                     107          37  0.3457944\n",
        "GaussianNB              398         162  0.4070352\n",
        "Decision Tree           129          62  0.4806202"
       ]
      }
     ],
     "prompt_number": 23
    },
    {
     "cell_type": "markdown",
     "metadata": {},
     "source": [
      "That is better, we can even see a pretty picture of the matrix of each model (e.g. SVM), useful to include in a report ;)"
     ]
    },
    {
     "cell_type": "code",
     "collapsed": false,
     "input": [
      "ml.plot_cm('SVM')"
     ],
     "language": "python",
     "metadata": {},
     "outputs": [
      {
       "output_type": "display_data",
       "png": "[encoded data removed]"
      }
     ],
     "prompt_number": 24
    },
    {
     "cell_type": "heading",
     "level": 3,
     "metadata": {},
     "source": [
      "Let's talk about money"
     ]
    },
    {
     "cell_type": "markdown",
     "metadata": {},
     "source": [
      "Finally we can define the costs of each prediction:\n",
      "\n",
      "1. True Negatives: 0 - did not send a catalog but wasn't a customer so we are good\n",
      "2. False Positives: 4 - catalog send but customer didn't respond\n",
      "3. False Negatives: 12 - catalog not sent and was a customer (opportunity cost)\n",
      "4. True Positives: 16 - catalog send and customer respond"
     ]
    },
    {
     "cell_type": "code",
     "collapsed": false,
     "input": [
      "ml.costs = [[0, 4], [12, 16]]"
     ],
     "language": "python",
     "metadata": {},
     "outputs": [],
     "prompt_number": 25
    },
    {
     "cell_type": "markdown",
     "metadata": {},
     "source": [
      "With the costs defined we can take a look at the revenues and oportunity cost"
     ]
    },
    {
     "cell_type": "code",
     "collapsed": false,
     "input": [
      "ml.oportunity_cost()"
     ],
     "language": "python",
     "metadata": {},
     "outputs": [
      {
       "output_type": "pyout",
       "prompt_number": 26,
       "text": [
        "SVM              6372\n",
        "Grad Boosting    6180\n",
        "Decision Tree    6072\n",
        "GaussianNB       4872\n",
        "Name: Oportuniy cost"
       ]
      }
     ],
     "prompt_number": 26
    },
    {
     "cell_type": "code",
     "collapsed": false,
     "input": [
      "ml.revenue()"
     ],
     "language": "python",
     "metadata": {},
     "outputs": [
      {
       "html": [
        "<div style=\"max-height:1000px;max-width:1500px;overflow:auto;\">\n",
        "<table border=\"1\" class=\"dataframe\">\n",
        "  <thead>\n",
        "    <tr style=\"text-align: right;\">\n",
        "      <th></th>\n",
        "      <th>Loss from False Positive</th>\n",
        "      <th>Revenue</th>\n",
        "      <th>Net revenue</th>\n",
        "    </tr>\n",
        "  </thead>\n",
        "  <tbody>\n",
        "    <tr>\n",
        "      <td><strong>GaussianNB</strong></td>\n",
        "      <td> 944</td>\n",
        "      <td> 2592</td>\n",
        "      <td> 1648</td>\n",
        "    </tr>\n",
        "    <tr>\n",
        "      <td><strong>Decision Tree</strong></td>\n",
        "      <td> 268</td>\n",
        "      <td>  992</td>\n",
        "      <td>  724</td>\n",
        "    </tr>\n",
        "    <tr>\n",
        "      <td><strong>Grad Boosting</strong></td>\n",
        "      <td> 180</td>\n",
        "      <td>  848</td>\n",
        "      <td>  668</td>\n",
        "    </tr>\n",
        "    <tr>\n",
        "      <td><strong>SVM</strong></td>\n",
        "      <td> 280</td>\n",
        "      <td>  592</td>\n",
        "      <td>  312</td>\n",
        "    </tr>\n",
        "  </tbody>\n",
        "</table>\n",
        "</div>"
       ],
       "output_type": "pyout",
       "prompt_number": 27,
       "text": [
        "              Loss from False Positive Revenue Net revenue\n",
        "GaussianNB                         944    2592        1648\n",
        "Decision Tree                      268     992         724\n",
        "Grad Boosting                      180     848         668\n",
        "SVM                                280     592         312"
       ]
      }
     ],
     "prompt_number": 27
    },
    {
     "cell_type": "markdown",
     "metadata": {},
     "source": [
      "OK, that is good, we now that GNB generates more revenue, but to what we are comparing?\n",
      "Is always useful to compare the fact of using a model and not using any model, or what I call being an idiot."
     ]
    },
    {
     "cell_type": "code",
     "collapsed": false,
     "input": [
      "ml.revenue_idiot()"
     ],
     "language": "python",
     "metadata": {},
     "outputs": [
      {
       "output_type": "pyout",
       "prompt_number": 28,
       "text": [
        "Expense        17184\n",
        "Revenue         9088\n",
        "Net revenue    -8096"
       ]
      }
     ],
     "prompt_number": 28
    },
    {
     "cell_type": "markdown",
     "metadata": {},
     "source": [
      "With that we can see that by sending catalogs to the every person on the testing catalog we would generated a loss of -8096; by using any model we can improve that, hell even by doing nothing and playing FIFA we can improve that :P"
     ]
    },
    {
     "cell_type": "heading",
     "level": 2,
     "metadata": {},
     "source": [
      "Conclusion"
     ]
    },
    {
     "cell_type": "markdown",
     "metadata": {},
     "source": [
      "Well it took me around 4 to 5 hours to code the MachineLearning class and like other hour or so to write this.\n",
      "I can say with confidence (and by being a user of both) that using this package is more easier and faster than to use Enterprise Miner.\n",
      "\n",
      "At least I can say that all the work I did on 6 hours on Enterprise Miner would have been like one hour using this; obviously had to code it first but now is done.\n",
      "\n",
      "**I know** that SAS has a **lot** of more features but I am just getting started :P. I also learn today a that [scikit-learn](http://scikit-learn.org/) has **tons** of features that I had never heard about such as cross-validation, I will definitely take a closer look at those features.\n",
      "\n",
      "For now this will only work for prototyping some Machine Learning but is what I have learned on my Business Intelligence classes so far, I will update the package as I learn more.\n",
      "\n",
      "The code is on github: [copper](https://github.com/danielfrg/copper \"Copper\")"
     ]
    }
   ],
   "metadata": {}
  }
 ]
}